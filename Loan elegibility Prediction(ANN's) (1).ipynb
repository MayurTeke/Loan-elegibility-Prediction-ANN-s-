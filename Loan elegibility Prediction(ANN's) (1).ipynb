{
 "cells": [
  {
   "cell_type": "markdown",
   "id": "82cdd9ac",
   "metadata": {},
   "source": [
    "# Project:Loan elegibility Prediction using (ANN's)"
   ]
  },
  {
   "cell_type": "markdown",
   "id": "c1fec0c4",
   "metadata": {},
   "source": [
    "# Read data"
   ]
  },
  {
   "cell_type": "code",
   "execution_count": 1,
   "id": "b828619a",
   "metadata": {},
   "outputs": [],
   "source": [
    "from warnings import filterwarnings\n",
    "filterwarnings(\"ignore\")\n",
    "import pandas as mt\n",
    "A = mt.read_csv(\"C:/Users/SHREE/Desktop/Data/training_set.csv\")"
   ]
  },
  {
   "cell_type": "markdown",
   "id": "3f8fd829",
   "metadata": {},
   "source": [
    "# Preview"
   ]
  },
  {
   "cell_type": "code",
   "execution_count": 2,
   "id": "8872daaa",
   "metadata": {},
   "outputs": [
    {
     "data": {
      "text/html": [
       "<div>\n",
       "<style scoped>\n",
       "    .dataframe tbody tr th:only-of-type {\n",
       "        vertical-align: middle;\n",
       "    }\n",
       "\n",
       "    .dataframe tbody tr th {\n",
       "        vertical-align: top;\n",
       "    }\n",
       "\n",
       "    .dataframe thead th {\n",
       "        text-align: right;\n",
       "    }\n",
       "</style>\n",
       "<table border=\"1\" class=\"dataframe\">\n",
       "  <thead>\n",
       "    <tr style=\"text-align: right;\">\n",
       "      <th></th>\n",
       "      <th>Loan_ID</th>\n",
       "      <th>Gender</th>\n",
       "      <th>Married</th>\n",
       "      <th>Dependents</th>\n",
       "      <th>Education</th>\n",
       "      <th>Self_Employed</th>\n",
       "      <th>ApplicantIncome</th>\n",
       "      <th>CoapplicantIncome</th>\n",
       "      <th>LoanAmount</th>\n",
       "      <th>Loan_Amount_Term</th>\n",
       "      <th>Credit_History</th>\n",
       "      <th>Property_Area</th>\n",
       "      <th>Loan_Status</th>\n",
       "    </tr>\n",
       "  </thead>\n",
       "  <tbody>\n",
       "    <tr>\n",
       "      <th>0</th>\n",
       "      <td>LP001002</td>\n",
       "      <td>Male</td>\n",
       "      <td>No</td>\n",
       "      <td>0</td>\n",
       "      <td>Graduate</td>\n",
       "      <td>No</td>\n",
       "      <td>5849.0</td>\n",
       "      <td>0.0</td>\n",
       "      <td>NaN</td>\n",
       "      <td>360.0</td>\n",
       "      <td>1.0</td>\n",
       "      <td>Urban</td>\n",
       "      <td>Y</td>\n",
       "    </tr>\n",
       "    <tr>\n",
       "      <th>1</th>\n",
       "      <td>LP001003</td>\n",
       "      <td>Male</td>\n",
       "      <td>Yes</td>\n",
       "      <td>1</td>\n",
       "      <td>Graduate</td>\n",
       "      <td>No</td>\n",
       "      <td>NaN</td>\n",
       "      <td>1508.0</td>\n",
       "      <td>128.0</td>\n",
       "      <td>360.0</td>\n",
       "      <td>1.0</td>\n",
       "      <td>Rural</td>\n",
       "      <td>N</td>\n",
       "    </tr>\n",
       "    <tr>\n",
       "      <th>2</th>\n",
       "      <td>LP001005</td>\n",
       "      <td>Male</td>\n",
       "      <td>Yes</td>\n",
       "      <td>0</td>\n",
       "      <td>Graduate</td>\n",
       "      <td>Yes</td>\n",
       "      <td>3000.0</td>\n",
       "      <td>0.0</td>\n",
       "      <td>66.0</td>\n",
       "      <td>360.0</td>\n",
       "      <td>1.0</td>\n",
       "      <td>Urban</td>\n",
       "      <td>Y</td>\n",
       "    </tr>\n",
       "    <tr>\n",
       "      <th>3</th>\n",
       "      <td>LP001006</td>\n",
       "      <td>Male</td>\n",
       "      <td>Yes</td>\n",
       "      <td>0</td>\n",
       "      <td>Not Graduate</td>\n",
       "      <td>No</td>\n",
       "      <td>2583.0</td>\n",
       "      <td>2358.0</td>\n",
       "      <td>120.0</td>\n",
       "      <td>360.0</td>\n",
       "      <td>1.0</td>\n",
       "      <td>Urban</td>\n",
       "      <td>Y</td>\n",
       "    </tr>\n",
       "    <tr>\n",
       "      <th>4</th>\n",
       "      <td>LP001008</td>\n",
       "      <td>Male</td>\n",
       "      <td>No</td>\n",
       "      <td>0</td>\n",
       "      <td>Graduate</td>\n",
       "      <td>No</td>\n",
       "      <td>6000.0</td>\n",
       "      <td>0.0</td>\n",
       "      <td>141.0</td>\n",
       "      <td>360.0</td>\n",
       "      <td>1.0</td>\n",
       "      <td>Urban</td>\n",
       "      <td>Y</td>\n",
       "    </tr>\n",
       "  </tbody>\n",
       "</table>\n",
       "</div>"
      ],
      "text/plain": [
       "    Loan_ID Gender Married Dependents     Education Self_Employed  \\\n",
       "0  LP001002   Male      No          0      Graduate            No   \n",
       "1  LP001003   Male     Yes          1      Graduate            No   \n",
       "2  LP001005   Male     Yes          0      Graduate           Yes   \n",
       "3  LP001006   Male     Yes          0  Not Graduate            No   \n",
       "4  LP001008   Male      No          0      Graduate            No   \n",
       "\n",
       "   ApplicantIncome  CoapplicantIncome  LoanAmount  Loan_Amount_Term  \\\n",
       "0           5849.0                0.0         NaN             360.0   \n",
       "1              NaN             1508.0       128.0             360.0   \n",
       "2           3000.0                0.0        66.0             360.0   \n",
       "3           2583.0             2358.0       120.0             360.0   \n",
       "4           6000.0                0.0       141.0             360.0   \n",
       "\n",
       "   Credit_History Property_Area Loan_Status  \n",
       "0             1.0         Urban           Y  \n",
       "1             1.0         Rural           N  \n",
       "2             1.0         Urban           Y  \n",
       "3             1.0         Urban           Y  \n",
       "4             1.0         Urban           Y  "
      ]
     },
     "execution_count": 2,
     "metadata": {},
     "output_type": "execute_result"
    }
   ],
   "source": [
    "A.head()"
   ]
  },
  {
   "cell_type": "markdown",
   "id": "33f51228",
   "metadata": {},
   "source": [
    "# Missing data treatment"
   ]
  },
  {
   "cell_type": "code",
   "execution_count": 3,
   "id": "458d0bd6",
   "metadata": {},
   "outputs": [],
   "source": [
    "from important_tool import replacer\n",
    "replacer(A)"
   ]
  },
  {
   "cell_type": "markdown",
   "id": "78c60cf2",
   "metadata": {},
   "source": [
    "# Drop unwanted column"
   ]
  },
  {
   "cell_type": "code",
   "execution_count": 4,
   "id": "e3dac90f",
   "metadata": {},
   "outputs": [],
   "source": [
    "A = A.drop(labels=[\"Loan_ID\"],axis=1)"
   ]
  },
  {
   "cell_type": "markdown",
   "id": "77ed9cf2",
   "metadata": {},
   "source": [
    "# Define X and Y"
   ]
  },
  {
   "cell_type": "code",
   "execution_count": 5,
   "id": "f506f2ec",
   "metadata": {},
   "outputs": [],
   "source": [
    "Y = A[[\"Loan_Status\"]]\n",
    "X = A.drop(labels=[\"Loan_Status\"],axis=1)"
   ]
  },
  {
   "cell_type": "markdown",
   "id": "7ea1be39",
   "metadata": {},
   "source": [
    "# Convert Y into a label encoded format"
   ]
  },
  {
   "cell_type": "code",
   "execution_count": 6,
   "id": "0bc3dfa4",
   "metadata": {},
   "outputs": [],
   "source": [
    "from sklearn.preprocessing import LabelEncoder\n",
    "le = LabelEncoder()\n",
    "Ynew = mt.DataFrame(le.fit_transform(Y),columns=[\"Loan_Status\"])"
   ]
  },
  {
   "cell_type": "markdown",
   "id": "b75c5c0d",
   "metadata": {},
   "source": [
    "# Preprocessing"
   ]
  },
  {
   "cell_type": "code",
   "execution_count": 7,
   "id": "fbedf9e8",
   "metadata": {},
   "outputs": [],
   "source": [
    "from important_tool import preprocessing\n",
    "Xnew = preprocessing(X)"
   ]
  },
  {
   "cell_type": "markdown",
   "id": "a4e3694b",
   "metadata": {},
   "source": [
    "# Divide data in training and testing"
   ]
  },
  {
   "cell_type": "code",
   "execution_count": 8,
   "id": "fb2073e4",
   "metadata": {},
   "outputs": [],
   "source": [
    "from sklearn.model_selection import train_test_split\n",
    "xtrain,xtest,ytrain,ytest=train_test_split(Xnew,Ynew,test_size=0.2,random_state=21)"
   ]
  },
  {
   "cell_type": "code",
   "execution_count": 9,
   "id": "1a94cf37",
   "metadata": {},
   "outputs": [
    {
     "data": {
      "text/plain": [
       "(614, 20)"
      ]
     },
     "execution_count": 9,
     "metadata": {},
     "output_type": "execute_result"
    }
   ],
   "source": [
    "Xnew.shape"
   ]
  },
  {
   "cell_type": "markdown",
   "id": "a0090541",
   "metadata": {},
   "source": [
    "# Create a Neural Network"
   ]
  },
  {
   "cell_type": "code",
   "execution_count": 10,
   "id": "67a1c3a8",
   "metadata": {},
   "outputs": [],
   "source": [
    "from keras.models import Sequential\n",
    "from keras.layers import Dense,Dropout\n",
    "from keras.callbacks import EarlyStopping"
   ]
  },
  {
   "cell_type": "code",
   "execution_count": 11,
   "id": "49399409",
   "metadata": {},
   "outputs": [],
   "source": [
    "es = EarlyStopping(patience=50)\n",
    "nn = Sequential()\n",
    "nn.add(Dense(200,input_dim=(20)))\n",
    "nn.add(Dense(200))\n",
    "nn.add(Dropout(0.2))\n",
    "nn.add(Dense(200))\n",
    "nn.add(Dropout(0.2))\n",
    "nn.add(Dense(200))\n",
    "nn.add(Dropout(0.2))\n",
    "nn.add(Dense(1,activation = \"sigmoid\"))"
   ]
  },
  {
   "cell_type": "code",
   "execution_count": 12,
   "id": "e2c195c0",
   "metadata": {},
   "outputs": [
    {
     "name": "stdout",
     "output_type": "stream",
     "text": [
      "Epoch 1/100\n",
      "98/98 [==============================] - 3s 13ms/step - loss: 0.6398 - accuracy: 0.7423 - val_loss: 0.5760 - val_accuracy: 0.7576\n",
      "Epoch 2/100\n",
      "98/98 [==============================] - 0s 5ms/step - loss: 0.5770 - accuracy: 0.7474 - val_loss: 0.6645 - val_accuracy: 0.7475\n",
      "Epoch 3/100\n",
      "98/98 [==============================] - 1s 6ms/step - loss: 0.5402 - accuracy: 0.7730 - val_loss: 0.5387 - val_accuracy: 0.7778\n",
      "Epoch 4/100\n",
      "98/98 [==============================] - 1s 5ms/step - loss: 0.5354 - accuracy: 0.7653 - val_loss: 0.6242 - val_accuracy: 0.7273\n",
      "Epoch 5/100\n",
      "98/98 [==============================] - 1s 6ms/step - loss: 0.5493 - accuracy: 0.7526 - val_loss: 0.6104 - val_accuracy: 0.8081\n",
      "Epoch 6/100\n",
      "98/98 [==============================] - 0s 5ms/step - loss: 0.5536 - accuracy: 0.7857 - val_loss: 0.5646 - val_accuracy: 0.8182\n",
      "Epoch 7/100\n",
      "98/98 [==============================] - 0s 5ms/step - loss: 0.5239 - accuracy: 0.8087 - val_loss: 0.5365 - val_accuracy: 0.7778\n",
      "Epoch 8/100\n",
      "98/98 [==============================] - 0s 5ms/step - loss: 0.5522 - accuracy: 0.7832 - val_loss: 0.5468 - val_accuracy: 0.8081\n",
      "Epoch 9/100\n",
      "98/98 [==============================] - 1s 5ms/step - loss: 0.5054 - accuracy: 0.7883 - val_loss: 0.5902 - val_accuracy: 0.8081\n",
      "Epoch 10/100\n",
      "98/98 [==============================] - 0s 5ms/step - loss: 0.5261 - accuracy: 0.7806 - val_loss: 0.5761 - val_accuracy: 0.7980\n",
      "Epoch 11/100\n",
      "98/98 [==============================] - 0s 5ms/step - loss: 0.5312 - accuracy: 0.7755 - val_loss: 0.5207 - val_accuracy: 0.7879\n",
      "Epoch 12/100\n",
      "98/98 [==============================] - 1s 5ms/step - loss: 0.5258 - accuracy: 0.7704 - val_loss: 0.5556 - val_accuracy: 0.7980\n",
      "Epoch 13/100\n",
      "98/98 [==============================] - 0s 5ms/step - loss: 0.5192 - accuracy: 0.7832 - val_loss: 0.5757 - val_accuracy: 0.8081\n",
      "Epoch 14/100\n",
      "98/98 [==============================] - 0s 5ms/step - loss: 0.4982 - accuracy: 0.7883 - val_loss: 0.6396 - val_accuracy: 0.7879\n",
      "Epoch 15/100\n",
      "98/98 [==============================] - 0s 5ms/step - loss: 0.5167 - accuracy: 0.7959 - val_loss: 0.5143 - val_accuracy: 0.7879\n",
      "Epoch 16/100\n",
      "98/98 [==============================] - 1s 5ms/step - loss: 0.4938 - accuracy: 0.8010 - val_loss: 0.5908 - val_accuracy: 0.8182\n",
      "Epoch 17/100\n",
      "98/98 [==============================] - 0s 5ms/step - loss: 0.5170 - accuracy: 0.7857 - val_loss: 0.5202 - val_accuracy: 0.7980\n",
      "Epoch 18/100\n",
      "98/98 [==============================] - 0s 5ms/step - loss: 0.5022 - accuracy: 0.8087 - val_loss: 0.5040 - val_accuracy: 0.8182\n",
      "Epoch 19/100\n",
      "98/98 [==============================] - 0s 5ms/step - loss: 0.4815 - accuracy: 0.7985 - val_loss: 0.5937 - val_accuracy: 0.7778\n",
      "Epoch 20/100\n",
      "98/98 [==============================] - 0s 5ms/step - loss: 0.4926 - accuracy: 0.8010 - val_loss: 0.5495 - val_accuracy: 0.7677\n",
      "Epoch 21/100\n",
      "98/98 [==============================] - 0s 5ms/step - loss: 0.4938 - accuracy: 0.7857 - val_loss: 0.5089 - val_accuracy: 0.8182\n",
      "Epoch 22/100\n",
      "98/98 [==============================] - 1s 6ms/step - loss: 0.4868 - accuracy: 0.7883 - val_loss: 0.5081 - val_accuracy: 0.8081\n",
      "Epoch 23/100\n",
      "98/98 [==============================] - 1s 5ms/step - loss: 0.5066 - accuracy: 0.7959 - val_loss: 0.5213 - val_accuracy: 0.8081\n",
      "Epoch 24/100\n",
      "98/98 [==============================] - 1s 6ms/step - loss: 0.4893 - accuracy: 0.7806 - val_loss: 0.5281 - val_accuracy: 0.8182\n",
      "Epoch 25/100\n",
      "98/98 [==============================] - 1s 6ms/step - loss: 0.5062 - accuracy: 0.8163 - val_loss: 0.5538 - val_accuracy: 0.8081\n",
      "Epoch 26/100\n",
      "98/98 [==============================] - 1s 6ms/step - loss: 0.4899 - accuracy: 0.8087 - val_loss: 0.5190 - val_accuracy: 0.7879\n",
      "Epoch 27/100\n",
      "98/98 [==============================] - 1s 6ms/step - loss: 0.4932 - accuracy: 0.8163 - val_loss: 0.5656 - val_accuracy: 0.8182\n",
      "Epoch 28/100\n",
      "98/98 [==============================] - 0s 5ms/step - loss: 0.5047 - accuracy: 0.7985 - val_loss: 0.5089 - val_accuracy: 0.8081\n",
      "Epoch 29/100\n",
      "98/98 [==============================] - 1s 5ms/step - loss: 0.4799 - accuracy: 0.7908 - val_loss: 0.5143 - val_accuracy: 0.7980\n",
      "Epoch 30/100\n",
      "98/98 [==============================] - 1s 5ms/step - loss: 0.4911 - accuracy: 0.8010 - val_loss: 0.5090 - val_accuracy: 0.8081\n",
      "Epoch 31/100\n",
      "98/98 [==============================] - 0s 5ms/step - loss: 0.4918 - accuracy: 0.7908 - val_loss: 0.5009 - val_accuracy: 0.8081\n",
      "Epoch 32/100\n",
      "98/98 [==============================] - 0s 5ms/step - loss: 0.4841 - accuracy: 0.7985 - val_loss: 0.5976 - val_accuracy: 0.7980\n",
      "Epoch 33/100\n",
      "98/98 [==============================] - 0s 5ms/step - loss: 0.4856 - accuracy: 0.8061 - val_loss: 0.4990 - val_accuracy: 0.8081\n",
      "Epoch 34/100\n",
      "98/98 [==============================] - 0s 5ms/step - loss: 0.4869 - accuracy: 0.8010 - val_loss: 0.6525 - val_accuracy: 0.8182\n",
      "Epoch 35/100\n",
      "98/98 [==============================] - 0s 5ms/step - loss: 0.4971 - accuracy: 0.8087 - val_loss: 0.5232 - val_accuracy: 0.8182\n",
      "Epoch 36/100\n",
      "98/98 [==============================] - 0s 5ms/step - loss: 0.4879 - accuracy: 0.7934 - val_loss: 0.5514 - val_accuracy: 0.8081\n",
      "Epoch 37/100\n",
      "98/98 [==============================] - 1s 5ms/step - loss: 0.4847 - accuracy: 0.8112 - val_loss: 0.5870 - val_accuracy: 0.8081\n",
      "Epoch 38/100\n",
      "98/98 [==============================] - 1s 6ms/step - loss: 0.4903 - accuracy: 0.8061 - val_loss: 0.5242 - val_accuracy: 0.7980\n",
      "Epoch 39/100\n",
      "98/98 [==============================] - 0s 5ms/step - loss: 0.4855 - accuracy: 0.8087 - val_loss: 0.5256 - val_accuracy: 0.7879\n",
      "Epoch 40/100\n",
      "98/98 [==============================] - 1s 6ms/step - loss: 0.4934 - accuracy: 0.7985 - val_loss: 0.5239 - val_accuracy: 0.7980\n",
      "Epoch 41/100\n",
      "98/98 [==============================] - 0s 5ms/step - loss: 0.4972 - accuracy: 0.8010 - val_loss: 0.5260 - val_accuracy: 0.7879\n",
      "Epoch 42/100\n",
      "98/98 [==============================] - 1s 5ms/step - loss: 0.4851 - accuracy: 0.8138 - val_loss: 0.5368 - val_accuracy: 0.7980\n",
      "Epoch 43/100\n",
      "98/98 [==============================] - 1s 5ms/step - loss: 0.4924 - accuracy: 0.8010 - val_loss: 0.5490 - val_accuracy: 0.7475\n",
      "Epoch 44/100\n",
      "98/98 [==============================] - 1s 5ms/step - loss: 0.4847 - accuracy: 0.8010 - val_loss: 0.5446 - val_accuracy: 0.7677\n",
      "Epoch 45/100\n",
      "98/98 [==============================] - 1s 5ms/step - loss: 0.4968 - accuracy: 0.8112 - val_loss: 0.5220 - val_accuracy: 0.8081\n",
      "Epoch 46/100\n",
      "98/98 [==============================] - 1s 5ms/step - loss: 0.4913 - accuracy: 0.7883 - val_loss: 0.5167 - val_accuracy: 0.8081\n",
      "Epoch 47/100\n",
      "98/98 [==============================] - 1s 6ms/step - loss: 0.4993 - accuracy: 0.8112 - val_loss: 0.5185 - val_accuracy: 0.8081\n",
      "Epoch 48/100\n",
      "98/98 [==============================] - 1s 6ms/step - loss: 0.4783 - accuracy: 0.8061 - val_loss: 0.5107 - val_accuracy: 0.7980\n",
      "Epoch 49/100\n",
      "98/98 [==============================] - 1s 7ms/step - loss: 0.4997 - accuracy: 0.8061 - val_loss: 0.5344 - val_accuracy: 0.8081\n",
      "Epoch 50/100\n",
      "98/98 [==============================] - 0s 5ms/step - loss: 0.4930 - accuracy: 0.7985 - val_loss: 0.5096 - val_accuracy: 0.7980\n",
      "Epoch 51/100\n",
      "98/98 [==============================] - 0s 4ms/step - loss: 0.4845 - accuracy: 0.8138 - val_loss: 0.5361 - val_accuracy: 0.7980\n",
      "Epoch 52/100\n",
      "98/98 [==============================] - 1s 6ms/step - loss: 0.4842 - accuracy: 0.8061 - val_loss: 0.5276 - val_accuracy: 0.8081\n",
      "Epoch 53/100\n",
      "98/98 [==============================] - 1s 6ms/step - loss: 0.4819 - accuracy: 0.8112 - val_loss: 0.5038 - val_accuracy: 0.8081\n",
      "Epoch 54/100\n",
      "98/98 [==============================] - 1s 6ms/step - loss: 0.4810 - accuracy: 0.8163 - val_loss: 0.4997 - val_accuracy: 0.8081\n",
      "Epoch 55/100\n",
      "98/98 [==============================] - 1s 6ms/step - loss: 0.4917 - accuracy: 0.8010 - val_loss: 0.5287 - val_accuracy: 0.8081\n",
      "Epoch 56/100\n",
      "98/98 [==============================] - 1s 6ms/step - loss: 0.4823 - accuracy: 0.7908 - val_loss: 0.5750 - val_accuracy: 0.8081\n",
      "Epoch 57/100\n",
      "98/98 [==============================] - 0s 5ms/step - loss: 0.4981 - accuracy: 0.8061 - val_loss: 0.5008 - val_accuracy: 0.8081\n",
      "Epoch 58/100\n",
      "98/98 [==============================] - 0s 4ms/step - loss: 0.4885 - accuracy: 0.8138 - val_loss: 0.5177 - val_accuracy: 0.7980\n",
      "Epoch 59/100\n",
      "98/98 [==============================] - 1s 5ms/step - loss: 0.4957 - accuracy: 0.7985 - val_loss: 0.5864 - val_accuracy: 0.8081\n",
      "Epoch 60/100\n",
      "98/98 [==============================] - 1s 6ms/step - loss: 0.4927 - accuracy: 0.8087 - val_loss: 0.4967 - val_accuracy: 0.8081\n",
      "Epoch 61/100\n",
      "98/98 [==============================] - 1s 6ms/step - loss: 0.4855 - accuracy: 0.8036 - val_loss: 0.5599 - val_accuracy: 0.7879\n",
      "Epoch 62/100\n",
      "98/98 [==============================] - 1s 5ms/step - loss: 0.4886 - accuracy: 0.8087 - val_loss: 0.5239 - val_accuracy: 0.8182\n",
      "Epoch 63/100\n",
      "98/98 [==============================] - 1s 5ms/step - loss: 0.4885 - accuracy: 0.8036 - val_loss: 0.5232 - val_accuracy: 0.7980\n",
      "Epoch 64/100\n",
      "98/98 [==============================] - 1s 5ms/step - loss: 0.4933 - accuracy: 0.8036 - val_loss: 0.5305 - val_accuracy: 0.8081\n",
      "Epoch 65/100\n",
      "98/98 [==============================] - 1s 5ms/step - loss: 0.4846 - accuracy: 0.8036 - val_loss: 0.5211 - val_accuracy: 0.8081\n",
      "Epoch 66/100\n",
      "98/98 [==============================] - 1s 5ms/step - loss: 0.4839 - accuracy: 0.8061 - val_loss: 0.6300 - val_accuracy: 0.8081\n",
      "Epoch 67/100\n",
      "98/98 [==============================] - 0s 5ms/step - loss: 0.4940 - accuracy: 0.8163 - val_loss: 0.5166 - val_accuracy: 0.7980\n",
      "Epoch 68/100\n",
      "98/98 [==============================] - 1s 6ms/step - loss: 0.4888 - accuracy: 0.8036 - val_loss: 0.5068 - val_accuracy: 0.7980\n",
      "Epoch 69/100\n",
      "98/98 [==============================] - 1s 5ms/step - loss: 0.4778 - accuracy: 0.7959 - val_loss: 0.4942 - val_accuracy: 0.8081\n",
      "Epoch 70/100\n",
      "98/98 [==============================] - 0s 5ms/step - loss: 0.4957 - accuracy: 0.8036 - val_loss: 0.5190 - val_accuracy: 0.7980\n",
      "Epoch 71/100\n",
      "98/98 [==============================] - 0s 5ms/step - loss: 0.4871 - accuracy: 0.8163 - val_loss: 0.5057 - val_accuracy: 0.8182\n",
      "Epoch 72/100\n",
      "98/98 [==============================] - 0s 5ms/step - loss: 0.4880 - accuracy: 0.8061 - val_loss: 0.5174 - val_accuracy: 0.7980\n",
      "Epoch 73/100\n",
      "98/98 [==============================] - 0s 5ms/step - loss: 0.4757 - accuracy: 0.8061 - val_loss: 0.5318 - val_accuracy: 0.7980\n",
      "Epoch 74/100\n",
      "98/98 [==============================] - 0s 5ms/step - loss: 0.5031 - accuracy: 0.8010 - val_loss: 0.5023 - val_accuracy: 0.8081\n",
      "Epoch 75/100\n",
      "98/98 [==============================] - 0s 5ms/step - loss: 0.4916 - accuracy: 0.8112 - val_loss: 0.4892 - val_accuracy: 0.8081\n",
      "Epoch 76/100\n",
      "98/98 [==============================] - 0s 5ms/step - loss: 0.4886 - accuracy: 0.8010 - val_loss: 0.6921 - val_accuracy: 0.8081\n",
      "Epoch 77/100\n",
      "98/98 [==============================] - 0s 5ms/step - loss: 0.4817 - accuracy: 0.8163 - val_loss: 0.5135 - val_accuracy: 0.7980\n",
      "Epoch 78/100\n",
      "98/98 [==============================] - 1s 5ms/step - loss: 0.4760 - accuracy: 0.8010 - val_loss: 0.5546 - val_accuracy: 0.8081\n",
      "Epoch 79/100\n",
      "98/98 [==============================] - 0s 5ms/step - loss: 0.4855 - accuracy: 0.8214 - val_loss: 0.5770 - val_accuracy: 0.8081\n",
      "Epoch 80/100\n",
      "98/98 [==============================] - 1s 5ms/step - loss: 0.4942 - accuracy: 0.7857 - val_loss: 0.5199 - val_accuracy: 0.8182\n",
      "Epoch 81/100\n",
      "98/98 [==============================] - 0s 5ms/step - loss: 0.4753 - accuracy: 0.8061 - val_loss: 0.5533 - val_accuracy: 0.7980\n",
      "Epoch 82/100\n",
      "98/98 [==============================] - 0s 5ms/step - loss: 0.4835 - accuracy: 0.8163 - val_loss: 0.5067 - val_accuracy: 0.8182\n",
      "Epoch 83/100\n",
      "98/98 [==============================] - 1s 5ms/step - loss: 0.4823 - accuracy: 0.8036 - val_loss: 0.5208 - val_accuracy: 0.7879\n",
      "Epoch 84/100\n",
      "98/98 [==============================] - 1s 6ms/step - loss: 0.4733 - accuracy: 0.8010 - val_loss: 0.5371 - val_accuracy: 0.7879\n",
      "Epoch 85/100\n",
      "98/98 [==============================] - 1s 6ms/step - loss: 0.4830 - accuracy: 0.8010 - val_loss: 0.5022 - val_accuracy: 0.8182\n",
      "Epoch 86/100\n",
      "98/98 [==============================] - 1s 7ms/step - loss: 0.4794 - accuracy: 0.8087 - val_loss: 0.5380 - val_accuracy: 0.8081\n",
      "Epoch 87/100\n",
      "98/98 [==============================] - 1s 5ms/step - loss: 0.4908 - accuracy: 0.8138 - val_loss: 0.4975 - val_accuracy: 0.8081\n",
      "Epoch 88/100\n",
      "98/98 [==============================] - 1s 5ms/step - loss: 0.4770 - accuracy: 0.8010 - val_loss: 0.5269 - val_accuracy: 0.8081\n",
      "Epoch 89/100\n",
      "98/98 [==============================] - 0s 5ms/step - loss: 0.4728 - accuracy: 0.8163 - val_loss: 0.5797 - val_accuracy: 0.8081\n",
      "Epoch 90/100\n",
      "98/98 [==============================] - 0s 5ms/step - loss: 0.4770 - accuracy: 0.8138 - val_loss: 0.6410 - val_accuracy: 0.7980\n",
      "Epoch 91/100\n",
      "98/98 [==============================] - 0s 5ms/step - loss: 0.4864 - accuracy: 0.8087 - val_loss: 0.5538 - val_accuracy: 0.7879\n",
      "Epoch 92/100\n",
      "98/98 [==============================] - 1s 5ms/step - loss: 0.4940 - accuracy: 0.8036 - val_loss: 0.5297 - val_accuracy: 0.7778\n",
      "Epoch 93/100\n",
      "98/98 [==============================] - 1s 6ms/step - loss: 0.4962 - accuracy: 0.8010 - val_loss: 0.4841 - val_accuracy: 0.8283\n",
      "Epoch 94/100\n",
      "98/98 [==============================] - 1s 5ms/step - loss: 0.4861 - accuracy: 0.8061 - val_loss: 0.5404 - val_accuracy: 0.8081\n",
      "Epoch 95/100\n",
      "98/98 [==============================] - 1s 6ms/step - loss: 0.4879 - accuracy: 0.7908 - val_loss: 0.5353 - val_accuracy: 0.8081\n",
      "Epoch 96/100\n",
      "98/98 [==============================] - 1s 5ms/step - loss: 0.4859 - accuracy: 0.8087 - val_loss: 0.5126 - val_accuracy: 0.8081\n",
      "Epoch 97/100\n",
      "98/98 [==============================] - 1s 6ms/step - loss: 0.4911 - accuracy: 0.8087 - val_loss: 0.4741 - val_accuracy: 0.8182\n",
      "Epoch 98/100\n",
      "98/98 [==============================] - 1s 6ms/step - loss: 0.4918 - accuracy: 0.8138 - val_loss: 0.6010 - val_accuracy: 0.7980\n",
      "Epoch 99/100\n",
      "98/98 [==============================] - 1s 6ms/step - loss: 0.4718 - accuracy: 0.8036 - val_loss: 0.6566 - val_accuracy: 0.8182\n",
      "Epoch 100/100\n",
      "98/98 [==============================] - 1s 6ms/step - loss: 0.5052 - accuracy: 0.8036 - val_loss: 0.5049 - val_accuracy: 0.8081\n"
     ]
    },
    {
     "data": {
      "text/plain": [
       "<keras.callbacks.History at 0x17b8c666b20>"
      ]
     },
     "execution_count": 12,
     "metadata": {},
     "output_type": "execute_result"
    }
   ],
   "source": [
    "nn.compile(loss=\"binary_crossentropy\",metrics=\"accuracy\")\n",
    "nn.fit(xtrain,ytrain,epochs=100,validation_split=0.2,callbacks=es, batch_size=4)"
   ]
  },
  {
   "cell_type": "markdown",
   "id": "71ddb553",
   "metadata": {},
   "source": [
    "# Read data"
   ]
  },
  {
   "cell_type": "code",
   "execution_count": 13,
   "id": "af5981bb",
   "metadata": {},
   "outputs": [],
   "source": [
    "B = mt.read_csv(\"C:/Users/SHREE/Desktop/Data/testing_set.csv\")"
   ]
  },
  {
   "cell_type": "markdown",
   "id": "31df3b32",
   "metadata": {},
   "source": [
    "# Preview"
   ]
  },
  {
   "cell_type": "code",
   "execution_count": 14,
   "id": "f95939f7",
   "metadata": {},
   "outputs": [
    {
     "data": {
      "text/html": [
       "<div>\n",
       "<style scoped>\n",
       "    .dataframe tbody tr th:only-of-type {\n",
       "        vertical-align: middle;\n",
       "    }\n",
       "\n",
       "    .dataframe tbody tr th {\n",
       "        vertical-align: top;\n",
       "    }\n",
       "\n",
       "    .dataframe thead th {\n",
       "        text-align: right;\n",
       "    }\n",
       "</style>\n",
       "<table border=\"1\" class=\"dataframe\">\n",
       "  <thead>\n",
       "    <tr style=\"text-align: right;\">\n",
       "      <th></th>\n",
       "      <th>Loan_ID</th>\n",
       "      <th>Gender</th>\n",
       "      <th>Married</th>\n",
       "      <th>Dependents</th>\n",
       "      <th>Education</th>\n",
       "      <th>Self_Employed</th>\n",
       "      <th>ApplicantIncome</th>\n",
       "      <th>CoapplicantIncome</th>\n",
       "      <th>LoanAmount</th>\n",
       "      <th>Loan_Amount_Term</th>\n",
       "      <th>Credit_History</th>\n",
       "      <th>Property_Area</th>\n",
       "    </tr>\n",
       "  </thead>\n",
       "  <tbody>\n",
       "    <tr>\n",
       "      <th>0</th>\n",
       "      <td>LP001015</td>\n",
       "      <td>Male</td>\n",
       "      <td>Yes</td>\n",
       "      <td>0</td>\n",
       "      <td>Graduate</td>\n",
       "      <td>No</td>\n",
       "      <td>5720</td>\n",
       "      <td>0</td>\n",
       "      <td>110.0</td>\n",
       "      <td>360.0</td>\n",
       "      <td>1.0</td>\n",
       "      <td>Urban</td>\n",
       "    </tr>\n",
       "    <tr>\n",
       "      <th>1</th>\n",
       "      <td>LP001022</td>\n",
       "      <td>Male</td>\n",
       "      <td>Yes</td>\n",
       "      <td>1</td>\n",
       "      <td>Graduate</td>\n",
       "      <td>No</td>\n",
       "      <td>3076</td>\n",
       "      <td>1500</td>\n",
       "      <td>126.0</td>\n",
       "      <td>360.0</td>\n",
       "      <td>1.0</td>\n",
       "      <td>Urban</td>\n",
       "    </tr>\n",
       "    <tr>\n",
       "      <th>2</th>\n",
       "      <td>LP001031</td>\n",
       "      <td>Male</td>\n",
       "      <td>Yes</td>\n",
       "      <td>2</td>\n",
       "      <td>Graduate</td>\n",
       "      <td>No</td>\n",
       "      <td>5000</td>\n",
       "      <td>1800</td>\n",
       "      <td>208.0</td>\n",
       "      <td>360.0</td>\n",
       "      <td>1.0</td>\n",
       "      <td>Urban</td>\n",
       "    </tr>\n",
       "    <tr>\n",
       "      <th>3</th>\n",
       "      <td>LP001035</td>\n",
       "      <td>Male</td>\n",
       "      <td>Yes</td>\n",
       "      <td>2</td>\n",
       "      <td>Graduate</td>\n",
       "      <td>No</td>\n",
       "      <td>2340</td>\n",
       "      <td>2546</td>\n",
       "      <td>100.0</td>\n",
       "      <td>360.0</td>\n",
       "      <td>NaN</td>\n",
       "      <td>Urban</td>\n",
       "    </tr>\n",
       "    <tr>\n",
       "      <th>4</th>\n",
       "      <td>LP001051</td>\n",
       "      <td>Male</td>\n",
       "      <td>No</td>\n",
       "      <td>0</td>\n",
       "      <td>Not Graduate</td>\n",
       "      <td>No</td>\n",
       "      <td>3276</td>\n",
       "      <td>0</td>\n",
       "      <td>78.0</td>\n",
       "      <td>360.0</td>\n",
       "      <td>1.0</td>\n",
       "      <td>Urban</td>\n",
       "    </tr>\n",
       "  </tbody>\n",
       "</table>\n",
       "</div>"
      ],
      "text/plain": [
       "    Loan_ID Gender Married Dependents     Education Self_Employed  \\\n",
       "0  LP001015   Male     Yes          0      Graduate            No   \n",
       "1  LP001022   Male     Yes          1      Graduate            No   \n",
       "2  LP001031   Male     Yes          2      Graduate            No   \n",
       "3  LP001035   Male     Yes          2      Graduate            No   \n",
       "4  LP001051   Male      No          0  Not Graduate            No   \n",
       "\n",
       "   ApplicantIncome  CoapplicantIncome  LoanAmount  Loan_Amount_Term  \\\n",
       "0             5720                  0       110.0             360.0   \n",
       "1             3076               1500       126.0             360.0   \n",
       "2             5000               1800       208.0             360.0   \n",
       "3             2340               2546       100.0             360.0   \n",
       "4             3276                  0        78.0             360.0   \n",
       "\n",
       "   Credit_History Property_Area  \n",
       "0             1.0         Urban  \n",
       "1             1.0         Urban  \n",
       "2             1.0         Urban  \n",
       "3             NaN         Urban  \n",
       "4             1.0         Urban  "
      ]
     },
     "execution_count": 14,
     "metadata": {},
     "output_type": "execute_result"
    }
   ],
   "source": [
    "B.head()"
   ]
  },
  {
   "cell_type": "markdown",
   "id": "a68a0feb",
   "metadata": {},
   "source": [
    "# Drop unwanted column"
   ]
  },
  {
   "cell_type": "code",
   "execution_count": 15,
   "id": "36aabc3d",
   "metadata": {},
   "outputs": [],
   "source": [
    "B = B.drop(labels=[\"Loan_ID\"],axis=1)"
   ]
  },
  {
   "cell_type": "markdown",
   "id": "51d7f03f",
   "metadata": {},
   "source": [
    "# Preprocessing"
   ]
  },
  {
   "cell_type": "code",
   "execution_count": 16,
   "id": "19d2c9b6",
   "metadata": {},
   "outputs": [],
   "source": [
    "test = preprocessing(B)"
   ]
  },
  {
   "cell_type": "code",
   "execution_count": 17,
   "id": "1b82fa24",
   "metadata": {},
   "outputs": [],
   "source": [
    "#test.columns"
   ]
  },
  {
   "cell_type": "code",
   "execution_count": 18,
   "id": "d7cbc8a8",
   "metadata": {},
   "outputs": [],
   "source": [
    "#Xnew.columns"
   ]
  },
  {
   "cell_type": "code",
   "execution_count": 19,
   "id": "de745ac8",
   "metadata": {},
   "outputs": [
    {
     "data": {
      "text/plain": [
       "(367, 20)"
      ]
     },
     "execution_count": 19,
     "metadata": {},
     "output_type": "execute_result"
    }
   ],
   "source": [
    "test.shape"
   ]
  },
  {
   "cell_type": "code",
   "execution_count": 20,
   "id": "28c4b1a5",
   "metadata": {},
   "outputs": [
    {
     "data": {
      "text/plain": [
       "(614, 20)"
      ]
     },
     "execution_count": 20,
     "metadata": {},
     "output_type": "execute_result"
    }
   ],
   "source": [
    "Xnew.shape"
   ]
  },
  {
   "cell_type": "code",
   "execution_count": 46,
   "id": "20bf64ce",
   "metadata": {},
   "outputs": [],
   "source": [
    "Q = []\n",
    "for i in nn.predict(test):\n",
    "    if(i[0] < 0.5):\n",
    "        Q.append(0)\n",
    "    else:\n",
    "        Q.append(1)"
   ]
  },
  {
   "cell_type": "code",
   "execution_count": 47,
   "id": "044d68c4",
   "metadata": {},
   "outputs": [],
   "source": [
    "#Q"
   ]
  },
  {
   "cell_type": "code",
   "execution_count": 48,
   "id": "c5099a06",
   "metadata": {},
   "outputs": [],
   "source": [
    "pred = le.inverse_transform(Q)"
   ]
  },
  {
   "cell_type": "markdown",
   "id": "7e3b45a1",
   "metadata": {},
   "source": [
    "# Read data"
   ]
  },
  {
   "cell_type": "code",
   "execution_count": 49,
   "id": "03faa8d1",
   "metadata": {},
   "outputs": [],
   "source": [
    "D = mt.read_csv(\"C:/Users/SHREE/Desktop/Data/testing_set.csv\")"
   ]
  },
  {
   "cell_type": "code",
   "execution_count": 50,
   "id": "2125523c",
   "metadata": {},
   "outputs": [],
   "source": [
    "C = D[[\"Loan_ID\"]]"
   ]
  },
  {
   "cell_type": "markdown",
   "id": "0cffc442",
   "metadata": {},
   "source": [
    "# Prediction"
   ]
  },
  {
   "cell_type": "code",
   "execution_count": 51,
   "id": "4cfaf3bc",
   "metadata": {},
   "outputs": [],
   "source": [
    "C[\"Loan_Status_Predicted\"] = pred"
   ]
  },
  {
   "cell_type": "code",
   "execution_count": 52,
   "id": "f17a2dc3",
   "metadata": {},
   "outputs": [
    {
     "data": {
      "text/html": [
       "<div>\n",
       "<style scoped>\n",
       "    .dataframe tbody tr th:only-of-type {\n",
       "        vertical-align: middle;\n",
       "    }\n",
       "\n",
       "    .dataframe tbody tr th {\n",
       "        vertical-align: top;\n",
       "    }\n",
       "\n",
       "    .dataframe thead th {\n",
       "        text-align: right;\n",
       "    }\n",
       "</style>\n",
       "<table border=\"1\" class=\"dataframe\">\n",
       "  <thead>\n",
       "    <tr style=\"text-align: right;\">\n",
       "      <th></th>\n",
       "      <th>Loan_ID</th>\n",
       "      <th>Loan_Status_Predicted</th>\n",
       "    </tr>\n",
       "  </thead>\n",
       "  <tbody>\n",
       "    <tr>\n",
       "      <th>0</th>\n",
       "      <td>LP001015</td>\n",
       "      <td>Y</td>\n",
       "    </tr>\n",
       "    <tr>\n",
       "      <th>1</th>\n",
       "      <td>LP001022</td>\n",
       "      <td>Y</td>\n",
       "    </tr>\n",
       "    <tr>\n",
       "      <th>2</th>\n",
       "      <td>LP001031</td>\n",
       "      <td>Y</td>\n",
       "    </tr>\n",
       "    <tr>\n",
       "      <th>3</th>\n",
       "      <td>LP001035</td>\n",
       "      <td>Y</td>\n",
       "    </tr>\n",
       "    <tr>\n",
       "      <th>4</th>\n",
       "      <td>LP001051</td>\n",
       "      <td>Y</td>\n",
       "    </tr>\n",
       "    <tr>\n",
       "      <th>...</th>\n",
       "      <td>...</td>\n",
       "      <td>...</td>\n",
       "    </tr>\n",
       "    <tr>\n",
       "      <th>362</th>\n",
       "      <td>LP002971</td>\n",
       "      <td>Y</td>\n",
       "    </tr>\n",
       "    <tr>\n",
       "      <th>363</th>\n",
       "      <td>LP002975</td>\n",
       "      <td>Y</td>\n",
       "    </tr>\n",
       "    <tr>\n",
       "      <th>364</th>\n",
       "      <td>LP002980</td>\n",
       "      <td>Y</td>\n",
       "    </tr>\n",
       "    <tr>\n",
       "      <th>365</th>\n",
       "      <td>LP002986</td>\n",
       "      <td>Y</td>\n",
       "    </tr>\n",
       "    <tr>\n",
       "      <th>366</th>\n",
       "      <td>LP002989</td>\n",
       "      <td>Y</td>\n",
       "    </tr>\n",
       "  </tbody>\n",
       "</table>\n",
       "<p>367 rows × 2 columns</p>\n",
       "</div>"
      ],
      "text/plain": [
       "      Loan_ID Loan_Status_Predicted\n",
       "0    LP001015                     Y\n",
       "1    LP001022                     Y\n",
       "2    LP001031                     Y\n",
       "3    LP001035                     Y\n",
       "4    LP001051                     Y\n",
       "..        ...                   ...\n",
       "362  LP002971                     Y\n",
       "363  LP002975                     Y\n",
       "364  LP002980                     Y\n",
       "365  LP002986                     Y\n",
       "366  LP002989                     Y\n",
       "\n",
       "[367 rows x 2 columns]"
      ]
     },
     "execution_count": 52,
     "metadata": {},
     "output_type": "execute_result"
    }
   ],
   "source": [
    "C"
   ]
  },
  {
   "cell_type": "code",
   "execution_count": null,
   "id": "26ba579f",
   "metadata": {},
   "outputs": [],
   "source": []
  },
  {
   "cell_type": "code",
   "execution_count": null,
   "id": "6680726f",
   "metadata": {},
   "outputs": [],
   "source": []
  }
 ],
 "metadata": {
  "kernelspec": {
   "display_name": "Python 3",
   "language": "python",
   "name": "python3"
  },
  "language_info": {
   "codemirror_mode": {
    "name": "ipython",
    "version": 3
   },
   "file_extension": ".py",
   "mimetype": "text/x-python",
   "name": "python",
   "nbconvert_exporter": "python",
   "pygments_lexer": "ipython3",
   "version": "3.8.8"
  }
 },
 "nbformat": 4,
 "nbformat_minor": 5
}
